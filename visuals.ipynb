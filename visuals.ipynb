{
 "cells": [
  {
   "cell_type": "code",
   "execution_count": 4,
   "metadata": {},
   "outputs": [],
   "source": [
    "import matplotlib.pyplot as plt\n",
    "import pandas as pd"
   ]
  },
  {
   "cell_type": "code",
   "execution_count": 5,
   "metadata": {},
   "outputs": [],
   "source": [
    "metric1 = \"run-.-tag-categorical_accuracy.csv\"\n",
    "metric2 = \"run-.-tag-categorical_accuracy_10.csv\"\n",
    "dataset_name = \"cora\"\n",
    "deephyperedges_directory = \"images/paper/\"+dataset_name+\"/deephyperedges/\"+metric1\n",
    "MLP_directory = \"images/paper/\"+dataset_name+\"/MLP/\"+metric2\n",
    "deepsets_directory = \"images/paper/\"+dataset_name+\"/deepsets/\"+metric2"
   ]
  },
  {
   "cell_type": "code",
   "execution_count": 8,
   "metadata": {},
   "outputs": [],
   "source": [
    "dhe_metrics = pd.read_csv(deephyperedges_directory)\n",
    "x = []\n",
    "y = []\n",
    "for index, row in dhe_metrics.iterrows():\n",
    "    x.append(float(row[\"Step\"]))\n",
    "    x.append(float(row[\"Value\"]))"
   ]
  },
  {
   "cell_type": "code",
   "execution_count": null,
   "metadata": {},
   "outputs": [],
   "source": []
  }
 ],
 "metadata": {
  "kernelspec": {
   "display_name": "Python 3",
   "language": "python",
   "name": "python3"
  },
  "language_info": {
   "codemirror_mode": {
    "name": "ipython",
    "version": 3
   },
   "file_extension": ".py",
   "mimetype": "text/x-python",
   "name": "python",
   "nbconvert_exporter": "python",
   "pygments_lexer": "ipython3",
   "version": "3.7.4"
  }
 },
 "nbformat": 4,
 "nbformat_minor": 2
}
