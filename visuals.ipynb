{
 "cells": [
  {
   "cell_type": "code",
   "execution_count": null,
   "metadata": {},
   "outputs": [],
   "source": [
    "import seaborn as sns\n",
    "import pandas as pd\n",
    "import warnings\n",
    "warnings.filterwarnings('ignore')"
   ]
  },
  {
   "cell_type": "code",
   "execution_count": null,
   "metadata": {},
   "outputs": [],
   "source": [
    "def smooth(scalars, weight):  # Weight between 0 and 1\n",
    "    last = scalars[0]  # First value in the plot (first timestep)\n",
    "    smoothed = list()\n",
    "    for point in scalars:\n",
    "        smoothed_val = last * weight + (1 - weight) * point  # Calculate smoothed value\n",
    "        smoothed.append(smoothed_val)                        # Save it\n",
    "        last = smoothed_val                                  # Anchor the last smoothed value\n",
    "\n",
    "    return smoothed"
   ]
  },
  {
   "cell_type": "code",
   "execution_count": null,
   "metadata": {},
   "outputs": [],
   "source": [
    "def plot(deephyperedges_directory,MLP_directory,deepsets_directory,metric,dataset):\n",
    "    dhe_metrics = pd.read_csv(deephyperedges_directory)\n",
    "    x = []\n",
    "    y = []\n",
    "    for index, row in dhe_metrics.iterrows():\n",
    "        x.append(float(row[\"Step\"]))\n",
    "        y.append(float(row[\"Value\"]))\n",
    "\n",
    "    mlp_metrics = pd.read_csv(MLP_directory)\n",
    "    x_mlp = []\n",
    "    y_mlp = []\n",
    "    for index, row in mlp_metrics.iterrows():\n",
    "        x_mlp.append(float(row[\"Step\"]))\n",
    "        y_mlp.append(float(row[\"Value\"]))\n",
    "\n",
    "    ds_metrics = pd.read_csv(deepsets_directory)\n",
    "    x_ds = []\n",
    "    y_ds = []\n",
    "    for index, row in ds_metrics.iterrows():\n",
    "        x_ds.append(float(row[\"Step\"]))\n",
    "        y_ds.append(float(row[\"Value\"]))\n",
    "    sns.set()\n",
    "    # sns.relplot(x=\"Step\", y=\"Value\",\n",
    "    #             kind=\"line\", data=dhe_metrics);\n",
    "    # sns.relplot(x=\"Step\", y=\"Value\",\n",
    "    #             kind=\"line\", data=ds_metrics);\n",
    "\n",
    "    ds_normal = '(0.0, 0.0, 0.7, 0.2)'\n",
    "    ds_smoothed = '(0.0, 0.0, 0.7, 1)'\n",
    "    dh_normal = '(0.0, 0.7, 0.0, 0.2)'\n",
    "    dh_smoothed = '(0.0, 0.7, 0.0, 1)'\n",
    "    mlp_normal = '(0.7, 0.2, 0.1, 0.2)'\n",
    "    mlp_smoothed = '(0.7, 0.2, 0.1, 1)'\n",
    "\n",
    "    plt.gca().set_prop_cycle(color=[mlp_normal, ds_normal,\n",
    "                                    dh_normal, mlp_smoothed,\n",
    "                                    ds_smoothed, dh_smoothed])\n",
    "    plt.plot(x_mlp, y_mlp)\n",
    "    plt.plot(x_ds, y_ds)\n",
    "    plt.plot(x, y)\n",
    "\n",
    "    plt.plot(x_mlp, smooth(y_mlp, 0.8))\n",
    "    plt.plot(x_ds, smooth(y_ds, 0.8))\n",
    "    plt.plot(x, smooth(y, 0.8))\n",
    "\n",
    "\n",
    "    plt.legend(['_nolegend_','_nolegend_','_nolegend_','MLP + TAS Walks','Deep Sets + SAT Walks','Deep Hyperedges'], loc='bottom right')\n",
    "\n",
    "    plt.savefig(\"images/paper/\"+dataset+\"/\"+metric+\".png\",dpi=300)\n",
    "    plt.show()"
   ]
  },
  {
   "cell_type": "code",
   "execution_count": null,
   "metadata": {},
   "outputs": [],
   "source": [
    "def plotAll(dataset):\n",
    "    metric = \"run-.-tag-categorical_accuracy.csv\"\n",
    "    deephyperedges_directory = \"images/paper/\"+dataset+\"/deephyperedges/\"+metric\n",
    "    MLP_directory = \"images/paper/\"+dataset+\"/MLP/\"+metric\n",
    "    deepsets_directory = \"images/paper/\"+dataset+\"/deepsets/\"+metric\n",
    "    plot(deephyperedges_directory,MLP_directory,deepsets_directory,\"train_accuracy\",dataset)\n",
    "\n",
    "    metric = \"run-.-tag-loss.csv\"\n",
    "    deephyperedges_directory = \"images/paper/\"+dataset+\"/deephyperedges/\"+metric\n",
    "    MLP_directory = \"images/paper/\"+dataset+\"/MLP/\"+metric\n",
    "    deepsets_directory = \"images/paper/\"+dataset+\"/deepsets/\"+metric\n",
    "    plot(deephyperedges_directory,MLP_directory,deepsets_directory,\"train_loss\",dataset)\n",
    "\n",
    "\n",
    "    metric = \"run-.-tag-val_categorical_accuracy.csv\"\n",
    "    deephyperedges_directory = \"images/paper/\"+dataset+\"/deephyperedges/\"+metric\n",
    "    MLP_directory = \"images/paper/\"+dataset+\"/MLP/\"+metric\n",
    "    deepsets_directory = \"images/paper/\"+dataset+\"/deepsets/\"+metric\n",
    "    plot(deephyperedges_directory,MLP_directory,deepsets_directory,\"validation_accuracy\",dataset)\n",
    "\n",
    "\n",
    "    metric = \"run-.-tag-val_loss.csv\"\n",
    "    deephyperedges_directory = \"images/paper/\"+dataset+\"/deephyperedges/\"+metric\n",
    "    MLP_directory = \"images/paper/\"+dataset+\"/MLP/\"+metric\n",
    "    deepsets_directory = \"images/paper/\"+dataset+\"/deepsets/\"+metric\n",
    "    plot(deephyperedges_directory,MLP_directory,deepsets_directory,\"validation_loss\",dataset)\n"
   ]
  },
  {
   "cell_type": "code",
   "execution_count": null,
   "metadata": {},
   "outputs": [],
   "source": [
    "plotAll(\"cora\")"
   ]
  },
  {
   "cell_type": "code",
   "execution_count": null,
   "metadata": {},
   "outputs": [],
   "source": [
    "plotAll(\"corum_diff_dist\")"
   ]
  },
  {
   "cell_type": "code",
   "execution_count": null,
   "metadata": {},
   "outputs": [],
   "source": [
    "plotAll(\"corum_same_dist\")"
   ]
  },
  {
   "cell_type": "code",
   "execution_count": null,
   "metadata": {},
   "outputs": [],
   "source": [
    "plotAll(\"meetup2cl\")"
   ]
  },
  {
   "cell_type": "code",
   "execution_count": null,
   "metadata": {},
   "outputs": [],
   "source": [
    "plotAll(\"meetup33cl\")"
   ]
  },
  {
   "cell_type": "code",
   "execution_count": null,
   "metadata": {},
   "outputs": [],
   "source": [
    "plotAll(\"pubmed\")"
   ]
  },
  {
   "cell_type": "code",
   "execution_count": null,
   "metadata": {},
   "outputs": [],
   "source": [
    "plotAll(\"disgenet\")"
   ]
  },
  {
   "cell_type": "code",
   "execution_count": null,
   "metadata": {},
   "outputs": [],
   "source": []
  }
 ],
 "metadata": {
  "kernelspec": {
   "display_name": "Python 3",
   "language": "python",
   "name": "python3"
  },
  "language_info": {
   "codemirror_mode": {
    "name": "ipython",
    "version": 3
   },
   "file_extension": ".py",
   "mimetype": "text/x-python",
   "name": "python",
   "nbconvert_exporter": "python",
   "pygments_lexer": "ipython3",
   "version": "3.7.4"
  }
 },
 "nbformat": 4,
 "nbformat_minor": 2
}
